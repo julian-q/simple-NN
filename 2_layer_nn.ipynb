{
 "cells": [
  {
   "cell_type": "markdown",
   "metadata": {},
   "source": [
    "# Let's make a 2-layer neural network using just NumPy!"
   ]
  },
  {
   "cell_type": "code",
   "execution_count": null,
   "metadata": {},
   "outputs": [],
   "source": [
    "import numpy as np\n",
    "import matplotlib.pyplot as plt\n",
    "from sklearn.datasets import make_moons"
   ]
  },
  {
   "cell_type": "markdown",
   "metadata": {},
   "source": [
    "### Simple binary classification dataset"
   ]
  },
  {
   "cell_type": "code",
   "execution_count": null,
   "metadata": {},
   "outputs": [],
   "source": [
    "X, Y = make_moons(noise=0.1)\n",
    "Y = np.expand_dims(Y, 1)\n",
    "plt.style.use('dark_background')\n",
    "plt.scatter(X.T[0], X.T[1], c=Y)\n",
    "plt.show()"
   ]
  },
  {
   "cell_type": "markdown",
   "metadata": {},
   "source": [
    "### Initialize model parameters"
   ]
  },
  {
   "cell_type": "code",
   "execution_count": null,
   "metadata": {},
   "outputs": [],
   "source": [
    "def init_parameters(in_channels, hidden_channels, out_channels):\n",
    "    W1 = np.random.randn(in_channels, hidden_channels)\n",
    "    b1 = np.random.randn(hidden_channels)\n",
    "\n",
    "    W2 = np.random.randn(hidden_channels, out_channels)\n",
    "    b2 = np.random.randn(out_channels)\n",
    "\n",
    "    parameters = [W1, b1, W2, b2]\n",
    "\n",
    "    return parameters"
   ]
  },
  {
   "cell_type": "markdown",
   "metadata": {},
   "source": [
    "### Activation functions"
   ]
  },
  {
   "cell_type": "code",
   "execution_count": null,
   "metadata": {},
   "outputs": [],
   "source": [
    "def relu(Z):\n",
    "    return np.maximum(0, Z)\n",
    "\n",
    "def relu_derivative(Z):\n",
    "    D = np.copy(Z)\n",
    "    D[D < 0] = 0\n",
    "    D[D > 0] = 1\n",
    "\n",
    "    return D\n",
    "\n",
    "def sigmoid(Z):\n",
    "    return 1 / (1 + np.exp(-Z))\n",
    "\n",
    "def sigmoid_derivative(Z):\n",
    "    return sigmoid(Z) * (1 - sigmoid(Z))"
   ]
  },
  {
   "cell_type": "markdown",
   "metadata": {},
   "source": [
    "### Forward pass"
   ]
  },
  {
   "cell_type": "code",
   "execution_count": null,
   "metadata": {},
   "outputs": [],
   "source": [
    "def forward(X, parameters, training=False):\n",
    "    W1, b1, W2, b2 = parameters\n",
    "\n",
    "    Z1 = X @ W1 + b1\n",
    "    A1 = relu(Z1)\n",
    "\n",
    "    Z2 = A1 @ W2 + b2\n",
    "    A2 = sigmoid(Z2)\n",
    "\n",
    "    if training:\n",
    "        cache = [Z1, A1, Z2, A2]\n",
    "\n",
    "        return A2, cache\n",
    "    else:\n",
    "        return A2"
   ]
  },
  {
   "cell_type": "markdown",
   "metadata": {},
   "source": [
    "### Cost function"
   ]
  },
  {
   "cell_type": "code",
   "execution_count": null,
   "metadata": {},
   "outputs": [],
   "source": [
    "def mse(Y, Y_hat):\n",
    "    N = Y.shape[0]\n",
    "\n",
    "    return np.sum((Y - Y_hat) ** 2) / N\n",
    "\n",
    "def mse_derivative(Y, Y_hat):\n",
    "    return Y_hat - Y"
   ]
  },
  {
   "cell_type": "markdown",
   "metadata": {},
   "source": [
    "### Point classification accuracy"
   ]
  },
  {
   "cell_type": "code",
   "execution_count": null,
   "metadata": {},
   "outputs": [],
   "source": [
    "def acc(Y, Y_hat):\n",
    "    pred = np.copy(Y_hat)\n",
    "    pred[pred < 0.5] = 0\n",
    "    pred[pred >= 0.5] = 1\n",
    "\n",
    "    return np.sum(Y == pred) / Y.shape[0]"
   ]
  },
  {
   "cell_type": "markdown",
   "metadata": {},
   "source": [
    "### Backprop"
   ]
  },
  {
   "cell_type": "code",
   "execution_count": null,
   "metadata": {},
   "outputs": [],
   "source": [
    "def backward(X, Y, parameters, cache):\n",
    "    _, _, W2, _ = parameters\n",
    "    Z1, A1, Z2, A2 = cache\n",
    "\n",
    "    dA2 = mse_derivative(Y, A2)\n",
    "    dZ2 = dA2 * sigmoid_derivative(Z2)\n",
    "\n",
    "    dA1 = dZ2 * W2.T\n",
    "    dZ1 = dA1 * relu_derivative(Z1)\n",
    "\n",
    "    N = Y.shape[0]\n",
    "\n",
    "    dW2 = (A1.T @ dZ2) / N\n",
    "    db2 = np.sum(dZ2, axis=0) / N\n",
    "\n",
    "    dW1 = (X.T @ dZ1) / N\n",
    "    db1 = np.sum(dZ1, axis=0) / N\n",
    "\n",
    "    gradients = [dW1, db1, dW2, db2]\n",
    "\n",
    "    return gradients"
   ]
  },
  {
   "cell_type": "markdown",
   "metadata": {},
   "source": [
    "### Visualize output probabilities"
   ]
  },
  {
   "cell_type": "code",
   "execution_count": null,
   "metadata": {},
   "outputs": [],
   "source": [
    "def visualize(X, Y, parameters, epoch, loss, accuracy):\n",
    "    res = 50\n",
    "    x1, x2 = -1.5, 2.5\n",
    "    y1, y2 = -1, 1.5\n",
    "    grid_x, grid_y = np.meshgrid(np.linspace(x1, x2, num=res), np.linspace(y1, y2, num=res))\n",
    "\n",
    "    grid = np.concatenate((grid_x.reshape((res ** 2, 1)), grid_y.reshape((res ** 2, 1))), axis=1)\n",
    "    Y_hat = forward(grid, parameters)\n",
    "\n",
    "    plt.contourf(grid_x, grid_y, Y_hat.reshape(res, res), alpha=0.7)\n",
    "    plt.scatter(X.T[0], X.T[1], c=Y)\n",
    "    plt.title(f'epoch {epoch + 1:4d}: loss={loss:.4f}, accuracy={accuracy:.4f}')\n",
    "    plt.savefig(f'./img/epoch_{epoch + 1:04d}.png')\n",
    "    plt.close()"
   ]
  },
  {
   "cell_type": "markdown",
   "metadata": {},
   "source": [
    "### Training"
   ]
  },
  {
   "cell_type": "code",
   "execution_count": null,
   "metadata": {},
   "outputs": [],
   "source": [
    "def train(X, Y, parameters, n_iterations, alpha):\n",
    "    Y_hat, cache = forward(X, parameters, training=True)\n",
    "    \n",
    "    for epoch in range(n_iterations):\n",
    "        gradients = backward(X, Y, parameters, cache)\n",
    "        \n",
    "        for k in range(len(parameters)):\n",
    "            parameters[k] -= alpha * gradients[k]\n",
    "\n",
    "        Y_hat, cache = forward(X, parameters, training=True)\n",
    "        loss = mse(Y, Y_hat)\n",
    "        accuracy = acc(Y, Y_hat)\n",
    "        print(f'epoch {epoch + 1:4d}: loss = {mse(Y, Y_hat):4f}, accuracy = {acc(Y, Y_hat):4f}')\n",
    "        \n",
    "        if (epoch + 1) % 10 == 0:\n",
    "            visualize(X, Y, parameters, epoch, loss, accuracy)"
   ]
  },
  {
   "cell_type": "code",
   "execution_count": null,
   "metadata": {},
   "outputs": [],
   "source": [
    "parameters = init_parameters(X.shape[1], 4, Y.shape[1])\n",
    "\n",
    "train(X, Y, parameters, 10000, 0.1)"
   ]
  },
  {
   "cell_type": "code",
   "execution_count": null,
   "metadata": {},
   "outputs": [],
   "source": [
    "!convert -delay 1 -loop 0 ./img/*.png class_boundaries.gif"
   ]
  }
 ],
 "metadata": {
  "interpreter": {
   "hash": "8c2f454f3b22965ec447854fc4580a90d46453be5eb5327da849de7f4ee280df"
  },
  "kernelspec": {
   "display_name": "Python 3.8.8 64-bit ('base': conda)",
   "language": "python",
   "name": "python3"
  },
  "language_info": {
   "codemirror_mode": {
    "name": "ipython",
    "version": 3
   },
   "file_extension": ".py",
   "mimetype": "text/x-python",
   "name": "python",
   "nbconvert_exporter": "python",
   "pygments_lexer": "ipython3",
   "version": "3.8.8"
  },
  "orig_nbformat": 4
 },
 "nbformat": 4,
 "nbformat_minor": 2
}
